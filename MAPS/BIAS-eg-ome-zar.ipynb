{
 "cells": [
  {
   "cell_type": "code",
   "execution_count": 1,
   "metadata": {},
   "outputs": [],
   "source": [
    "import pandas as pd\n",
    "from pathlib import Path\n",
    "import zarr\n",
    "import dask.array as da\n",
    "from ome_zarr.io import parse_url\n",
    "from ome_zarr.reader import Reader\n",
    "from dask.diagnostics import ProgressBar\n",
    "ProgressBar().register()"
   ]
  },
  {
   "cell_type": "code",
   "execution_count": 2,
   "metadata": {},
   "outputs": [],
   "source": [
    "z_path = Path('3e0f709c-c757-4590-901e-081a82843a61-ome.zarr')\n",
    "# read the image data\n",
    "store = parse_url(z_path, mode=\"r\").store"
   ]
  },
  {
   "cell_type": "code",
   "execution_count": 3,
   "metadata": {},
   "outputs": [
    {
     "data": {
      "text/html": [
       "<table>\n",
       "    <tr>\n",
       "        <td>\n",
       "            <table style=\"border-collapse: collapse;\">\n",
       "                <thead>\n",
       "                    <tr>\n",
       "                        <td> </td>\n",
       "                        <th> Array </th>\n",
       "                        <th> Chunk </th>\n",
       "                    </tr>\n",
       "                </thead>\n",
       "                <tbody>\n",
       "                    \n",
       "                    <tr>\n",
       "                        <th> Bytes </th>\n",
       "                        <td> 220.00 MiB </td>\n",
       "                        <td> 2.00 MiB </td>\n",
       "                    </tr>\n",
       "                    \n",
       "                    <tr>\n",
       "                        <th> Shape </th>\n",
       "                        <td> (10240, 11264) </td>\n",
       "                        <td> (1024, 1024) </td>\n",
       "                    </tr>\n",
       "                    <tr>\n",
       "                        <th> Dask graph </th>\n",
       "                        <td colspan=\"2\"> 110 chunks in 2 graph layers </td>\n",
       "                    </tr>\n",
       "                    <tr>\n",
       "                        <th> Data type </th>\n",
       "                        <td colspan=\"2\"> uint16 numpy.ndarray </td>\n",
       "                    </tr>\n",
       "                </tbody>\n",
       "            </table>\n",
       "        </td>\n",
       "        <td>\n",
       "        <svg width=\"170\" height=\"159\" style=\"stroke:rgb(0,0,0);stroke-width:1\" >\n",
       "\n",
       "  <!-- Horizontal lines -->\n",
       "  <line x1=\"0\" y1=\"0\" x2=\"120\" y2=\"0\" style=\"stroke-width:2\" />\n",
       "  <line x1=\"0\" y1=\"10\" x2=\"120\" y2=\"10\" />\n",
       "  <line x1=\"0\" y1=\"21\" x2=\"120\" y2=\"21\" />\n",
       "  <line x1=\"0\" y1=\"32\" x2=\"120\" y2=\"32\" />\n",
       "  <line x1=\"0\" y1=\"43\" x2=\"120\" y2=\"43\" />\n",
       "  <line x1=\"0\" y1=\"54\" x2=\"120\" y2=\"54\" />\n",
       "  <line x1=\"0\" y1=\"65\" x2=\"120\" y2=\"65\" />\n",
       "  <line x1=\"0\" y1=\"76\" x2=\"120\" y2=\"76\" />\n",
       "  <line x1=\"0\" y1=\"87\" x2=\"120\" y2=\"87\" />\n",
       "  <line x1=\"0\" y1=\"98\" x2=\"120\" y2=\"98\" />\n",
       "  <line x1=\"0\" y1=\"109\" x2=\"120\" y2=\"109\" style=\"stroke-width:2\" />\n",
       "\n",
       "  <!-- Vertical lines -->\n",
       "  <line x1=\"0\" y1=\"0\" x2=\"0\" y2=\"109\" style=\"stroke-width:2\" />\n",
       "  <line x1=\"10\" y1=\"0\" x2=\"10\" y2=\"109\" />\n",
       "  <line x1=\"21\" y1=\"0\" x2=\"21\" y2=\"109\" />\n",
       "  <line x1=\"32\" y1=\"0\" x2=\"32\" y2=\"109\" />\n",
       "  <line x1=\"43\" y1=\"0\" x2=\"43\" y2=\"109\" />\n",
       "  <line x1=\"54\" y1=\"0\" x2=\"54\" y2=\"109\" />\n",
       "  <line x1=\"65\" y1=\"0\" x2=\"65\" y2=\"109\" />\n",
       "  <line x1=\"76\" y1=\"0\" x2=\"76\" y2=\"109\" />\n",
       "  <line x1=\"87\" y1=\"0\" x2=\"87\" y2=\"109\" />\n",
       "  <line x1=\"98\" y1=\"0\" x2=\"98\" y2=\"109\" />\n",
       "  <line x1=\"109\" y1=\"0\" x2=\"109\" y2=\"109\" />\n",
       "  <line x1=\"120\" y1=\"0\" x2=\"120\" y2=\"109\" style=\"stroke-width:2\" />\n",
       "\n",
       "  <!-- Colored Rectangle -->\n",
       "  <polygon points=\"0.0,0.0 120.0,0.0 120.0,109.09090909090908 0.0,109.09090909090908\" style=\"fill:#ECB172A0;stroke-width:0\"/>\n",
       "\n",
       "  <!-- Text -->\n",
       "  <text x=\"60.000000\" y=\"129.090909\" font-size=\"1.0rem\" font-weight=\"100\" text-anchor=\"middle\" >11264</text>\n",
       "  <text x=\"140.000000\" y=\"54.545455\" font-size=\"1.0rem\" font-weight=\"100\" text-anchor=\"middle\" transform=\"rotate(-90,140.000000,54.545455)\">10240</text>\n",
       "</svg>\n",
       "        </td>\n",
       "    </tr>\n",
       "</table>"
      ],
      "text/plain": [
       "dask.array<from-zarr, shape=(10240, 11264), dtype=uint16, chunksize=(1024, 1024), chunktype=numpy.ndarray>"
      ]
     },
     "execution_count": 3,
     "metadata": {},
     "output_type": "execute_result"
    }
   ],
   "source": [
    "reader = Reader(parse_url(z_path))\n",
    "# nodes may include images, labels etc\n",
    "nodes = list(reader())\n",
    "\n",
    "# first node will be the image pixel data\n",
    "image_node = nodes[0]\n",
    "\n",
    "dask_data = image_node.data\n",
    "d0 = dask_data[0]\n",
    "d0"
   ]
  },
  {
   "cell_type": "code",
   "execution_count": 4,
   "metadata": {},
   "outputs": [],
   "source": [
    "from dask_image import ndfilters, ndmeasure, ndmorph\n",
    "from skimage.morphology import disk\n",
    "\n",
    "from ome_zarr.writer import write_multiscale\n",
    "def rm_tree(pth):\n",
    "    \"\"\" Helper function to remove a folder if exists during ome.zarr creation\"\"\"\n",
    "    pth = Path(pth)\n",
    "    for child in pth.glob('*'):\n",
    "        if child.is_file():\n",
    "            child.unlink()\n",
    "        else:\n",
    "            rm_tree(child)\n",
    "    pth.rmdir()\n"
   ]
  },
  {
   "cell_type": "code",
   "execution_count": 5,
   "metadata": {},
   "outputs": [],
   "source": [
    "smoothed = ndfilters.gaussian_filter(d0, sigma=[5, 5])\n",
    "\n",
    "thresh = ndfilters.threshold_local(smoothed, (d0.chunksize[0]*2, d0.chunksize[1]*2))\n",
    "th_img = d0 > thresh\n",
    "\n",
    "bw_img = ndmorph.binary_closing(th_img, structure=disk(15))\n",
    "\n",
    "label_image, num_labels = ndmeasure.label(bw_img)"
   ]
  },
  {
   "cell_type": "code",
   "execution_count": 6,
   "metadata": {},
   "outputs": [],
   "source": [
    "p = Path(\"test_ngff_image-ome.zarr\")\n",
    "if p.exists():\n",
    "  rm_tree(p)\n",
    "\n",
    "p.mkdir()"
   ]
  },
  {
   "cell_type": "code",
   "execution_count": 7,
   "metadata": {},
   "outputs": [
    {
     "name": "stdout",
     "output_type": "stream",
     "text": [
      "[########################################] | 100% Completed | 114.01 s\n"
     ]
    }
   ],
   "source": [
    "store = parse_url(p, mode='w').store\n",
    "root = zarr.group(store=store)\n",
    "tr = image_node.metadata['coordinateTransformations'][0]\n",
    "ax = image_node.metadata['axes']\n",
    "# Use OME write multiscale;\n",
    "write_multiscale([label_image],\n",
    "        group=root, axes=ax, coordinate_transformations=[tr]\n",
    "        )\n",
    "\n",
    "# add omero metadata: the napari ome-zarr plugin uses this to pass rendering\n",
    "# options to napari.\n",
    "root.attrs['omero'] = {\n",
    "        'channels': [{\n",
    "                'color': 'ffffff',\n",
    "                'label': 'segmentation',\n",
    "                'active': True,\n",
    "                }]\n",
    "        }"
   ]
  }
 ],
 "metadata": {
  "kernelspec": {
   "display_name": "zarr-env",
   "language": "python",
   "name": "python3"
  },
  "language_info": {
   "codemirror_mode": {
    "name": "ipython",
    "version": 3
   },
   "file_extension": ".py",
   "mimetype": "text/x-python",
   "name": "python",
   "nbconvert_exporter": "python",
   "pygments_lexer": "ipython3",
   "version": "3.9.18"
  }
 },
 "nbformat": 4,
 "nbformat_minor": 2
}
